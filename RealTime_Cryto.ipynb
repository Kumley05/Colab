{
  "nbformat": 4,
  "nbformat_minor": 0,
  "metadata": {
    "colab": {
      "provenance": [],
      "authorship_tag": "ABX9TyMPmGd2/JpAywo3WoP1UYTp",
      "include_colab_link": true
    },
    "kernelspec": {
      "name": "python3",
      "display_name": "Python 3"
    },
    "language_info": {
      "name": "python"
    }
  },
  "cells": [
    {
      "cell_type": "markdown",
      "metadata": {
        "id": "view-in-github",
        "colab_type": "text"
      },
      "source": [
        "<a href=\"https://colab.research.google.com/github/Kumley05/Colab/blob/main/RealTime_Cryto.ipynb\" target=\"_parent\"><img src=\"https://colab.research.google.com/assets/colab-badge.svg\" alt=\"Open In Colab\"/></a>"
      ]
    },
    {
      "cell_type": "code",
      "execution_count": 2,
      "metadata": {
        "colab": {
          "base_uri": "https://localhost:8080/"
        },
        "id": "lOK8isbcweV1",
        "outputId": "993b87e3-c19d-49f3-e697-2499e88115d7"
      },
      "outputs": [
        {
          "output_type": "stream",
          "name": "stdout",
          "text": [
            "Collecting dash\n",
            "  Downloading dash-3.2.0-py3-none-any.whl.metadata (10 kB)\n",
            "Requirement already satisfied: requests in /usr/local/lib/python3.12/dist-packages (2.32.4)\n",
            "Requirement already satisfied: plotly in /usr/local/lib/python3.12/dist-packages (5.24.1)\n",
            "Requirement already satisfied: pandas in /usr/local/lib/python3.12/dist-packages (2.2.2)\n",
            "Requirement already satisfied: Flask<3.2,>=1.0.4 in /usr/local/lib/python3.12/dist-packages (from dash) (3.1.2)\n",
            "Requirement already satisfied: Werkzeug<3.2 in /usr/local/lib/python3.12/dist-packages (from dash) (3.1.3)\n",
            "Requirement already satisfied: importlib-metadata in /usr/local/lib/python3.12/dist-packages (from dash) (8.7.0)\n",
            "Requirement already satisfied: typing-extensions>=4.1.1 in /usr/local/lib/python3.12/dist-packages (from dash) (4.15.0)\n",
            "Collecting retrying (from dash)\n",
            "  Downloading retrying-1.4.2-py3-none-any.whl.metadata (5.5 kB)\n",
            "Requirement already satisfied: nest-asyncio in /usr/local/lib/python3.12/dist-packages (from dash) (1.6.0)\n",
            "Requirement already satisfied: setuptools in /usr/local/lib/python3.12/dist-packages (from dash) (75.2.0)\n",
            "Requirement already satisfied: charset_normalizer<4,>=2 in /usr/local/lib/python3.12/dist-packages (from requests) (3.4.3)\n",
            "Requirement already satisfied: idna<4,>=2.5 in /usr/local/lib/python3.12/dist-packages (from requests) (3.10)\n",
            "Requirement already satisfied: urllib3<3,>=1.21.1 in /usr/local/lib/python3.12/dist-packages (from requests) (2.5.0)\n",
            "Requirement already satisfied: certifi>=2017.4.17 in /usr/local/lib/python3.12/dist-packages (from requests) (2025.8.3)\n",
            "Requirement already satisfied: tenacity>=6.2.0 in /usr/local/lib/python3.12/dist-packages (from plotly) (8.5.0)\n",
            "Requirement already satisfied: packaging in /usr/local/lib/python3.12/dist-packages (from plotly) (25.0)\n",
            "Requirement already satisfied: numpy>=1.26.0 in /usr/local/lib/python3.12/dist-packages (from pandas) (2.0.2)\n",
            "Requirement already satisfied: python-dateutil>=2.8.2 in /usr/local/lib/python3.12/dist-packages (from pandas) (2.9.0.post0)\n",
            "Requirement already satisfied: pytz>=2020.1 in /usr/local/lib/python3.12/dist-packages (from pandas) (2025.2)\n",
            "Requirement already satisfied: tzdata>=2022.7 in /usr/local/lib/python3.12/dist-packages (from pandas) (2025.2)\n",
            "Requirement already satisfied: blinker>=1.9.0 in /usr/local/lib/python3.12/dist-packages (from Flask<3.2,>=1.0.4->dash) (1.9.0)\n",
            "Requirement already satisfied: click>=8.1.3 in /usr/local/lib/python3.12/dist-packages (from Flask<3.2,>=1.0.4->dash) (8.2.1)\n",
            "Requirement already satisfied: itsdangerous>=2.2.0 in /usr/local/lib/python3.12/dist-packages (from Flask<3.2,>=1.0.4->dash) (2.2.0)\n",
            "Requirement already satisfied: jinja2>=3.1.2 in /usr/local/lib/python3.12/dist-packages (from Flask<3.2,>=1.0.4->dash) (3.1.6)\n",
            "Requirement already satisfied: markupsafe>=2.1.1 in /usr/local/lib/python3.12/dist-packages (from Flask<3.2,>=1.0.4->dash) (3.0.2)\n",
            "Requirement already satisfied: six>=1.5 in /usr/local/lib/python3.12/dist-packages (from python-dateutil>=2.8.2->pandas) (1.17.0)\n",
            "Requirement already satisfied: zipp>=3.20 in /usr/local/lib/python3.12/dist-packages (from importlib-metadata->dash) (3.23.0)\n",
            "Downloading dash-3.2.0-py3-none-any.whl (7.9 MB)\n",
            "\u001b[2K   \u001b[90m━━━━━━━━━━━━━━━━━━━━━━━━━━━━━━━━━━━━━━━━\u001b[0m \u001b[32m7.9/7.9 MB\u001b[0m \u001b[31m57.0 MB/s\u001b[0m eta \u001b[36m0:00:00\u001b[0m\n",
            "\u001b[?25hDownloading retrying-1.4.2-py3-none-any.whl (10 kB)\n",
            "Installing collected packages: retrying, dash\n",
            "Successfully installed dash-3.2.0 retrying-1.4.2\n"
          ]
        }
      ],
      "source": [
        "!pip install dash requests plotly pandas"
      ]
    },
    {
      "cell_type": "code",
      "source": [
        "import dash\n",
        "from dash import dcc, html\n",
        "from dash.dependencies import Input, Output\n",
        "import plotly.graph_objects as go\n",
        "import pandas as pd\n",
        "import requests\n",
        "\n",
        "app = dash.Dash(__name__)\n",
        "data_store = {\n",
        "    'Time' : [],\n",
        "    'BTC' : [],\n",
        "    'ETH' : [],\n",
        "    'LTC' : []\n",
        "}\n",
        "\n",
        "app.layout = html.Div(children = [html.H1(children = 'Real Time Crytocurrency Dashboard'),\n",
        "                                  dcc.Dropdown(\n",
        "                                      id='crypto-dropdown',\n",
        "                                      options=[\n",
        "                                          {\n",
        "                                              'label': 'Bitcoin', 'value': 'BTC'\n",
        "                                          },{\n",
        "                                              'label': 'Ethereum', 'value': 'ETH'\n",
        "                                          },{\n",
        "                                              'label': 'Litecoin', 'value': 'LTC'\n",
        "                                          }\n",
        "                                      ],\n",
        "                                      value = 'BTC', #Default Value\n",
        "                                      clearable= False,\n",
        "                                      style = {'width': '50%'}\n",
        "                                  ),\n",
        "                                  dcc.Graph(\n",
        "                                      id = 'price-graph'\n",
        "                                  ),\n",
        "                                  dcc.Interval(\n",
        "                                      id = 'Interval-Component',\n",
        "                                      interval = 60 * 1000,\n",
        "                                      n_intervals = 0\n",
        "                                  )\n",
        "])\n",
        "\n",
        "@app.callback(\n",
        "    Output('price-graph', 'figure'),\n",
        "    [Input('Interval-Component', 'n_intervals'), Input('crypto-dropdown', 'value')]\n",
        ")\n",
        "def update_graph(n, selected_cypto):\n",
        "  url = 'https://api.coingecko.com/api/v3/simple/price?ids=bitcoin,ethereum,litecoin&vs_currencies=usd'\n",
        "  response = requests.get(url)\n",
        "  data = response.json()\n",
        "  print('API Response: ', data)\n",
        "\n",
        "  if 'error_code' in data and data['error_code'] == 429:\n",
        "    print('Rate limit Exceeded, waiting for a while before retrying....')\n",
        "    return dash.no_update()\n",
        "  try:\n",
        "    btc_price = data['bitcoin']['usd']\n",
        "    eth_price = data['ethereum']['usd']\n",
        "    ltc_price = data['litecoin']['usd']\n",
        "    current_time = pd.Timestamp.now()\n",
        "\n",
        "    data_store['Time'].append(current_time)\n",
        "    data_store['BTC'].append(btc_price)\n",
        "    data_store['ETH'].append(eth_price)\n",
        "    data_store['LTC'].append(ltc_price)\n",
        "\n",
        "    if len(data_store['Time'])>100:\n",
        "      data_store['Time'] = data_store['Time'][-100:]\n",
        "      data_store['BTC'] = data_store['BTC'][-100:]\n",
        "      data_store['ETH'] = data_store['ETH'][-100:]\n",
        "      data_store['LTC'] = data_store['LTC'][-100:]\n",
        "\n",
        "  except KeyError as e:\n",
        "    print(f\"KeyError: {e}\")\n",
        "    return dash.no_update\n",
        "\n",
        "  df = pd.DataFrame(data_store)\n",
        "\n",
        "  fig = go.Figure()\n",
        "\n",
        "  if selected_cypto == 'BTC':\n",
        "      fig.add_trace(go.Scatter(x=df['Time'], y=df['BTC'], mode='lines+markers', name='Bitcoin'))\n",
        "  elif selected_cypto == 'ETH':\n",
        "      fig.add_trace(go.Scatter(x=df['Time'], y=df['ETH'], mode='lines+markers', name='Ethereum'))\n",
        "  elif selected_cypto == 'LTC':\n",
        "      fig.add_trace(go.Scatter(x=df['Time'], y=df['LTC'], mode='lines+markers', name='Litecoin'))\n",
        "\n",
        "  fig.update_layout(title=f'Price of {selected_cypto} over Time',\n",
        "                    xaxis_title='Time',\n",
        "                    yaxis_title='Price (USD)')\n",
        "\n",
        "  return fig\n",
        "\n",
        "if __name__ == '__main__':\n",
        "    app.run(debug=True)"
      ],
      "metadata": {
        "colab": {
          "base_uri": "https://localhost:8080/",
          "height": 671
        },
        "id": "YWY8-PxIwt-9",
        "outputId": "6c131a49-4adf-4c85-ba96-4b5de12ef180"
      },
      "execution_count": 16,
      "outputs": [
        {
          "output_type": "display_data",
          "data": {
            "text/plain": [
              "<IPython.core.display.Javascript object>"
            ],
            "application/javascript": [
              "(async (port, path, width, height, cache, element) => {\n",
              "    if (!google.colab.kernel.accessAllowed && !cache) {\n",
              "      return;\n",
              "    }\n",
              "    element.appendChild(document.createTextNode(''));\n",
              "    const url = await google.colab.kernel.proxyPort(port, {cache});\n",
              "    const iframe = document.createElement('iframe');\n",
              "    iframe.src = new URL(path, url).toString();\n",
              "    iframe.height = height;\n",
              "    iframe.width = width;\n",
              "    iframe.style.border = 0;\n",
              "    iframe.allow = [\n",
              "        'accelerometer',\n",
              "        'autoplay',\n",
              "        'camera',\n",
              "        'clipboard-read',\n",
              "        'clipboard-write',\n",
              "        'gyroscope',\n",
              "        'magnetometer',\n",
              "        'microphone',\n",
              "        'serial',\n",
              "        'usb',\n",
              "        'xr-spatial-tracking',\n",
              "    ].join('; ');\n",
              "    element.appendChild(iframe);\n",
              "  })(8050, \"/\", \"100%\", 650, false, window.element)"
            ]
          },
          "metadata": {}
        }
      ]
    }
  ]
}